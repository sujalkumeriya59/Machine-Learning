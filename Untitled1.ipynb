{
  "nbformat": 4,
  "nbformat_minor": 0,
  "metadata": {
    "colab": {
      "provenance": [],
      "authorship_tag": "ABX9TyMHe0qDPd7hom3Fht9RoHaX",
      "include_colab_link": true
    },
    "kernelspec": {
      "name": "python3",
      "display_name": "Python 3"
    },
    "language_info": {
      "name": "python"
    }
  },
  "cells": [
    {
      "cell_type": "markdown",
      "metadata": {
        "id": "view-in-github",
        "colab_type": "text"
      },
      "source": [
        "<a href=\"https://colab.research.google.com/github/sujalkumeriya59/Machine-Learning/blob/main/Untitled1.ipynb\" target=\"_parent\"><img src=\"https://colab.research.google.com/assets/colab-badge.svg\" alt=\"Open In Colab\"/></a>"
      ]
    },
    {
      "cell_type": "code",
      "execution_count": 2,
      "metadata": {
        "colab": {
          "base_uri": "https://localhost:8080/"
        },
        "id": "MXNgzRk81e8x",
        "outputId": "7ad36096-62ad-421c-80e7-0222534cb8e4"
      },
      "outputs": [
        {
          "output_type": "stream",
          "name": "stdout",
          "text": [
            "Enter value of n:1\n",
            "n is 1\n"
          ]
        }
      ],
      "source": [
        "n = int(input(\"Enter value of n:\"))\n",
        "if (n==0):\n",
        "  print(\"n is 0\")\n",
        "if (n==1):\n",
        "  print(\"n is 1\")"
      ]
    },
    {
      "cell_type": "code",
      "source": [],
      "metadata": {
        "id": "PkP3MSBa2-5H"
      },
      "execution_count": null,
      "outputs": []
    }
  ]
}